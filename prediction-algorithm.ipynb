{
 "cells": [
  {
   "cell_type": "code",
   "execution_count": 1,
   "id": "e72c6812",
   "metadata": {
    "execution": {
     "iopub.execute_input": "2023-08-28T02:02:06.841356Z",
     "iopub.status.busy": "2023-08-28T02:02:06.840920Z",
     "iopub.status.idle": "2023-08-28T02:02:06.892834Z",
     "shell.execute_reply": "2023-08-28T02:02:06.891946Z"
    },
    "papermill": {
     "duration": 0.061117,
     "end_time": "2023-08-28T02:02:06.895087",
     "exception": false,
     "start_time": "2023-08-28T02:02:06.833970",
     "status": "completed"
    },
    "tags": []
   },
   "outputs": [
    {
     "name": "stdout",
     "output_type": "stream",
     "text": [
      "Predicted next combination: [2, 7, 11, 28, 29, 32, ['1,4,7,11,19,30,36']]\n"
     ]
    }
   ],
   "source": [
    "# Predict next combination (6 number plus additional)\n",
    "# 1st try!\n",
    "import random\n",
    "import pandas as pd\n",
    "\n",
    "# Read historical data from CSV file\n",
    "historical_data = pd.read_csv(\"/kaggle/input/historical/historical_data.csv\", header=None)\n",
    "\n",
    "def predict_next_combination(historical_data):\n",
    "    threshold = 20  # Adjust the threshold as needed\n",
    "    hot_percentage = 0.5  # Adjust the hot percentage as needed\n",
    "    \n",
    "    # Calculate frequency of each number\n",
    "    number_frequency = [1] * 57\n",
    "    for draw in historical_data:\n",
    "        for num in draw[:-1]:  # Exclude the last column (additional number)\n",
    "            number_frequency[num] += 1\n",
    "    \n",
    "    # Identify hot and cold numbers\n",
    "    hot_numbers = [num for num, freq in enumerate(number_frequency) if freq > threshold]\n",
    "    cold_numbers = [num for num, freq in enumerate(number_frequency) if freq <= threshold]\n",
    "    \n",
    "    # Select numbers for the next combination\n",
    "    selected_numbers = []\n",
    "    num_hot = int(len(hot_numbers) * hot_percentage)\n",
    "    num_cold = 6 - num_hot  # Selecting 6 numbers for the main combination\n",
    "    \n",
    "    selected_numbers.extend(random.sample(hot_numbers, num_hot))\n",
    "    selected_numbers.extend(random.sample(cold_numbers, num_cold))\n",
    "    \n",
    "    # Fill in remaining slots with random numbers\n",
    "    while len(selected_numbers) < 6:\n",
    "        num = random.randint(1, 56)\n",
    "        if num not in selected_numbers:\n",
    "            selected_numbers.append(num)\n",
    "    \n",
    "    # Sort the selected numbers for the main combination\n",
    "    selected_numbers.sort()\n",
    "    \n",
    "    # Append the additional number from the last column\n",
    "    selected_numbers.append(historical_data[-1])\n",
    "    \n",
    "    return selected_numbers\n",
    "\n",
    "# Load historical data from uploaded dataset\n",
    "historical_data_path = \"/kaggle/input/historical/historical_data.csv\"\n",
    "historical_data = pd.read_csv(historical_data_path, delimiter='\\t', skiprows=1, header=None)\n",
    "\n",
    "next_combination = predict_next_combination(historical_data.values.tolist())\n",
    "print(\"Predicted next combination:\", next_combination)"
   ]
  },
  {
   "cell_type": "code",
   "execution_count": 2,
   "id": "7ba3f04a",
   "metadata": {
    "execution": {
     "iopub.execute_input": "2023-08-28T02:02:06.904101Z",
     "iopub.status.busy": "2023-08-28T02:02:06.903336Z",
     "iopub.status.idle": "2023-08-28T02:02:06.922739Z",
     "shell.execute_reply": "2023-08-28T02:02:06.921523Z"
    },
    "papermill": {
     "duration": 0.026087,
     "end_time": "2023-08-28T02:02:06.925012",
     "exception": false,
     "start_time": "2023-08-28T02:02:06.898925",
     "status": "completed"
    },
    "tags": []
   },
   "outputs": [
    {
     "name": "stdout",
     "output_type": "stream",
     "text": [
      "Predicted next combination: [5, 8, 13, 16, 23, 36, ['1,4,7,11,19,30,36']]\n"
     ]
    }
   ],
   "source": [
    "# Predict next combination (6 number plus additional) \n",
    "# 2nd try!\n",
    "\n",
    "import random\n",
    "import pandas as pd\n",
    "\n",
    "def predict_next_combination(historical_data):\n",
    "    threshold = 20  # Adjust the threshold as needed\n",
    "    hot_percentage = 0.5  # Adjust the hot percentage as needed\n",
    "    \n",
    "    # Calculate frequency of each number\n",
    "    number_frequency = [0] * 57\n",
    "    for draw in historical_data:\n",
    "        for num in draw[:-1]:  # Exclude the last column (additional number)\n",
    "            number_frequency[num] += 1\n",
    "    \n",
    "    # Identify hot and cold numbers\n",
    "    hot_numbers = [num for num, freq in enumerate(number_frequency) if freq > threshold]\n",
    "    cold_numbers = [num for num, freq in enumerate(number_frequency) if freq <= threshold]\n",
    "    \n",
    "    # Select numbers for the next combination\n",
    "    selected_numbers = []\n",
    "    num_hot = int(len(hot_numbers) * hot_percentage)\n",
    "    num_cold = 6 - num_hot  # Selecting 6 numbers for the main combination\n",
    "    \n",
    "    selected_numbers.extend(random.sample(hot_numbers, num_hot))\n",
    "    selected_numbers.extend(random.sample(cold_numbers, num_cold))\n",
    "    \n",
    "    # Fill in remaining slots with random numbers\n",
    "    while len(selected_numbers) < 6:\n",
    "        num = random.randint(1, 56)\n",
    "        if num not in selected_numbers:\n",
    "            selected_numbers.append(num)\n",
    "    \n",
    "    # Sort the selected numbers for the main combination\n",
    "    selected_numbers.sort()\n",
    "    \n",
    "    # Append the additional number from the last column\n",
    "    selected_numbers.append(historical_data[-1])\n",
    "    \n",
    "    return selected_numbers\n",
    "\n",
    "# Load historical data from uploaded dataset\n",
    "historical_data_path = \"/kaggle/input/historical/historical_data.csv\"\n",
    "historical_data = pd.read_csv(historical_data_path, delimiter='\\t', skiprows=1, header=None)\n",
    "\n",
    "next_combination = predict_next_combination(historical_data.values.tolist())\n",
    "formatted_next_combination = str(next_combination).replace(\"[\", \"[\").replace(\"]\", \"]\")\n",
    "print(\"Predicted next combination:\", formatted_next_combination)"
   ]
  },
  {
   "cell_type": "code",
   "execution_count": 3,
   "id": "2de0f870",
   "metadata": {
    "execution": {
     "iopub.execute_input": "2023-08-28T02:02:06.934720Z",
     "iopub.status.busy": "2023-08-28T02:02:06.934058Z",
     "iopub.status.idle": "2023-08-28T02:02:06.953324Z",
     "shell.execute_reply": "2023-08-28T02:02:06.952043Z"
    },
    "papermill": {
     "duration": 0.026707,
     "end_time": "2023-08-28T02:02:06.955701",
     "exception": false,
     "start_time": "2023-08-28T02:02:06.928994",
     "status": "completed"
    },
    "tags": []
   },
   "outputs": [
    {
     "name": "stdout",
     "output_type": "stream",
     "text": [
      "Predicted next combination: [4, 16, 17, 30, 37, 43], ['1,4,7,11,19,30,36']\n"
     ]
    }
   ],
   "source": [
    "# Predict next combination (6 number plus additional) \n",
    "# 3rd try!\n",
    "import random\n",
    "import pandas as pd\n",
    "\n",
    "def predict_next_combination(historical_data):\n",
    "    threshold = 20  # Adjust the threshold as needed\n",
    "    hot_percentage = 0.5  # Adjust the hot percentage as needed\n",
    "    \n",
    "    # Calculate frequency of each number\n",
    "    number_frequency = [0] * 57\n",
    "    for draw in historical_data:\n",
    "        for num in draw[:-1]:  # Exclude the last column (additional number)\n",
    "            number_frequency[num] += 1\n",
    "    \n",
    "    # Identify hot and cold numbers\n",
    "    hot_numbers = [num for num, freq in enumerate(number_frequency) if freq > threshold]\n",
    "    cold_numbers = [num for num, freq in enumerate(number_frequency) if freq <= threshold]\n",
    "    \n",
    "    # Select numbers for the next combination\n",
    "    selected_numbers = []\n",
    "    num_hot = int(len(hot_numbers) * hot_percentage)\n",
    "    num_cold = 6 - num_hot  # Selecting 6 numbers for the main combination\n",
    "    \n",
    "    selected_numbers.extend(random.sample(hot_numbers, num_hot))\n",
    "    selected_numbers.extend(random.sample(cold_numbers, num_cold))\n",
    "    \n",
    "    # Fill in remaining slots with random numbers\n",
    "    while len(selected_numbers) < 6:\n",
    "        num = random.randint(1, 56)\n",
    "        if num not in selected_numbers:\n",
    "            selected_numbers.append(num)\n",
    "    \n",
    "    # Sort the selected numbers for the main combination\n",
    "    selected_numbers.sort()\n",
    "    \n",
    "    # Append the additional number from the last column\n",
    "    selected_numbers.append(historical_data[-1])\n",
    "    \n",
    "    return selected_numbers\n",
    "\n",
    "# Load historical data from uploaded dataset\n",
    "historical_data_path = \"/kaggle/input/historical/historical_data.csv\"\n",
    "historical_data = pd.read_csv(historical_data_path, delimiter='\\t', skiprows=1, header=None)\n",
    "\n",
    "next_combination = predict_next_combination(historical_data.values.tolist())\n",
    "formatted_next_combination = str(next_combination[:-1]) + \", \" + str(next_combination[-1])\n",
    "print(\"Predicted next combination:\", formatted_next_combination)"
   ]
  },
  {
   "cell_type": "code",
   "execution_count": 4,
   "id": "2c50c8e4",
   "metadata": {
    "execution": {
     "iopub.execute_input": "2023-08-28T02:02:06.965641Z",
     "iopub.status.busy": "2023-08-28T02:02:06.965264Z",
     "iopub.status.idle": "2023-08-28T02:02:06.990334Z",
     "shell.execute_reply": "2023-08-28T02:02:06.989439Z"
    },
    "papermill": {
     "duration": 0.032584,
     "end_time": "2023-08-28T02:02:06.992274",
     "exception": false,
     "start_time": "2023-08-28T02:02:06.959690",
     "status": "completed"
    },
    "tags": []
   },
   "outputs": [
    {
     "name": "stdout",
     "output_type": "stream",
     "text": [
      "Predicted next combination: [4, 9, 19, 24, 47, 53]\n"
     ]
    }
   ],
   "source": [
    "# Predict next combination (6 numbers)\n",
    "\n",
    "import random\n",
    "import pandas as pd\n",
    "\n",
    "# Read historical data from CSV file\n",
    "historical_data = pd.read_csv(\"/kaggle/input/historical/historical_data.csv\", header=None)\n",
    "\n",
    "def predict_next_combination(historical_data):\n",
    "    threshold = 20  # Adjust the threshold as needed\n",
    "    hot_percentage = 0.5  # Adjust the hot percentage as needed\n",
    "    \n",
    "    # Calculate frequency of each number\n",
    "    number_frequency = [0] * 57\n",
    "    for draw in historical_data:\n",
    "        for num in draw[:-1]:  # Exclude the last column (additional number)\n",
    "            number_frequency[num] += 1\n",
    "    \n",
    "    # Identify hot and cold numbers\n",
    "    hot_numbers = [num for num, freq in enumerate(number_frequency) if freq > threshold]\n",
    "    cold_numbers = [num for num, freq in enumerate(number_frequency) if freq <= threshold]\n",
    "    \n",
    "    # Select numbers for the next combination\n",
    "    selected_numbers = []\n",
    "    num_hot = int(len(hot_numbers) * hot_percentage)\n",
    "    num_cold = 6 - num_hot  # Selecting 6 numbers for the main combination\n",
    "    \n",
    "    selected_numbers.extend(random.sample(hot_numbers, num_hot))\n",
    "    selected_numbers.extend(random.sample(cold_numbers, num_cold))\n",
    "    \n",
    "    # Fill in remaining slots with random numbers\n",
    "    while len(selected_numbers) < 6:\n",
    "        num = random.randint(1, 56)\n",
    "        if num not in selected_numbers:\n",
    "            selected_numbers.append(num)\n",
    "    \n",
    "    # Sort the selected numbers for the main combination\n",
    "    selected_numbers.sort()\n",
    "    \n",
    "    return selected_numbers\n",
    "\n",
    "# Load historical data from uploaded dataset\n",
    "historical_data_path = \"/kaggle/input/historical/historical_data.csv\"\n",
    "historical_data = pd.read_csv(historical_data_path, delimiter='\\t', skiprows=1, header=None)\n",
    "\n",
    "next_combination = predict_next_combination(historical_data.values.tolist())\n",
    "print(\"Predicted next combination:\", next_combination)"
   ]
  },
  {
   "cell_type": "code",
   "execution_count": 5,
   "id": "99a243a5",
   "metadata": {
    "execution": {
     "iopub.execute_input": "2023-08-28T02:02:07.002585Z",
     "iopub.status.busy": "2023-08-28T02:02:07.001507Z",
     "iopub.status.idle": "2023-08-28T02:02:07.016283Z",
     "shell.execute_reply": "2023-08-28T02:02:07.015091Z"
    },
    "papermill": {
     "duration": 0.022301,
     "end_time": "2023-08-28T02:02:07.018571",
     "exception": false,
     "start_time": "2023-08-28T02:02:06.996270",
     "status": "completed"
    },
    "tags": []
   },
   "outputs": [
    {
     "name": "stdout",
     "output_type": "stream",
     "text": [
      "Predicted next number: 32\n"
     ]
    }
   ],
   "source": [
    "# Predict just additional number\n",
    "\n",
    "import random\n",
    "import pandas as pd\n",
    "\n",
    "def predict_next_number(last_column_data):\n",
    "    threshold = 20  # Adjust the threshold as needed\n",
    "    hot_percentage = 0.5  # Adjust the hot percentage as needed\n",
    "    \n",
    "    # Calculate frequency of each number\n",
    "    number_frequency = [0] * 57\n",
    "    for num in last_column_data:\n",
    "        number_frequency[num] += 1\n",
    "    \n",
    "    # Identify hot and cold numbers\n",
    "    hot_numbers = [num for num, freq in enumerate(number_frequency) if freq > threshold]\n",
    "    cold_numbers = [num for num, freq in enumerate(number_frequency) if freq <= threshold]\n",
    "    \n",
    "    # Select a number for the next prediction\n",
    "    if random.random() < hot_percentage:\n",
    "        next_number = random.choice(hot_numbers)\n",
    "    else:\n",
    "        next_number = random.choice(cold_numbers)\n",
    "    \n",
    "    return next_number\n",
    "\n",
    "# Load historical data from uploaded dataset\n",
    "historical_data_path = \"/kaggle/input/historical/historical_data.csv\"\n",
    "historical_data = pd.read_csv(historical_data_path, delimiter='\\t', skiprows=1, usecols=[-1], header=None)\n",
    "last_column_data = historical_data.squeeze().tolist()\n",
    "\n",
    "next_number = predict_next_number(last_column_data)\n",
    "print(\"Predicted next number:\", next_number)"
   ]
  },
  {
   "cell_type": "code",
   "execution_count": 6,
   "id": "9ee2926c",
   "metadata": {
    "execution": {
     "iopub.execute_input": "2023-08-28T02:02:07.028201Z",
     "iopub.status.busy": "2023-08-28T02:02:07.027815Z",
     "iopub.status.idle": "2023-08-28T02:02:07.062545Z",
     "shell.execute_reply": "2023-08-28T02:02:07.061301Z"
    },
    "papermill": {
     "duration": 0.042274,
     "end_time": "2023-08-28T02:02:07.064822",
     "exception": false,
     "start_time": "2023-08-28T02:02:07.022548",
     "status": "completed"
    },
    "tags": []
   },
   "outputs": [
    {
     "name": "stdout",
     "output_type": "stream",
     "text": [
      "Predicted next combination: [12, 14, 41, 46, 52, 55]\n",
      "Results saved to combinations.csv\n"
     ]
    }
   ],
   "source": [
    "# Predict combination 1000 times and saved!\n",
    "import random\n",
    "import pandas as pd\n",
    "import csv\n",
    "\n",
    "def predict_next_combination(historical_data):\n",
    "    threshold = 20  # Adjust the threshold as needed\n",
    "    hot_percentage = 0.5  # Adjust the hot percentage as needed\n",
    "    \n",
    "    # Calculate frequency of each number\n",
    "    number_frequency = [1] * 57\n",
    "    for draw in historical_data:\n",
    "        for num in draw[:-1]:  # Exclude the last column (additional number)\n",
    "            number_frequency[num] += 1\n",
    "    \n",
    "    # Identify hot and cold numbers\n",
    "    hot_numbers = [num for num, freq in enumerate(number_frequency) if freq > threshold]\n",
    "    cold_numbers = [num for num, freq in enumerate(number_frequency) if freq <= threshold]\n",
    "    \n",
    "    # Select numbers for the next combination\n",
    "    selected_numbers = []\n",
    "    num_hot = int(len(hot_numbers) * hot_percentage)\n",
    "    num_cold = 6 - num_hot  # Selecting 6 numbers for the main combination\n",
    "    \n",
    "    selected_numbers.extend(random.sample(hot_numbers, num_hot))\n",
    "    selected_numbers.extend(random.sample(cold_numbers, num_cold))\n",
    "    \n",
    "    # Fill in remaining slots with random numbers\n",
    "    while len(selected_numbers) < 6:\n",
    "        num = random.randint(1, 56)\n",
    "        if num not in selected_numbers:\n",
    "            selected_numbers.append(num)\n",
    "    \n",
    "    # Sort the selected numbers for the main combination\n",
    "    selected_numbers.sort()\n",
    "    \n",
    "    return selected_numbers\n",
    "\n",
    "# Load historical data from uploaded dataset\n",
    "historical_data_path = \"/kaggle/input/historical/historical_data.csv\"\n",
    "historical_data = pd.read_csv(historical_data_path, delimiter='\\t', skiprows=1, header=None)\n",
    "\n",
    "next_combination = predict_next_combination(historical_data.values.tolist())\n",
    "print(\"Predicted next combination:\", next_combination)\n",
    "\n",
    "# Function to generate a combination of 6 numbers\n",
    "def generate_combination():\n",
    "    combination = [random.randint(1, 56) for _ in range(6)]\n",
    "    return combination\n",
    "\n",
    "# Run the code 1000 times\n",
    "results = []\n",
    "for _ in range(1000):\n",
    "    combination = generate_combination()\n",
    "    results.append(combination)\n",
    "    \n",
    "# Save the results to a CSV file\n",
    "output_file = \"combinations.csv\"\n",
    "with open(output_file, \"w\", newline=\"\") as csvfile:\n",
    "    csv_writer = csv.writer(csvfile)\n",
    "    csv_writer.writerow([\"Number 1\", \"Number 2\", \"Number 3\", \"Number 4\", \"Number 5\", \"Number 6\"])  # Add column headers\n",
    "    csv_writer.writerows(results)\n",
    "\n",
    "print(f\"Results saved to {output_file}\")"
   ]
  },
  {
   "cell_type": "code",
   "execution_count": 7,
   "id": "c8057663",
   "metadata": {
    "execution": {
     "iopub.execute_input": "2023-08-28T02:02:07.074215Z",
     "iopub.status.busy": "2023-08-28T02:02:07.073867Z",
     "iopub.status.idle": "2023-08-28T02:02:07.088668Z",
     "shell.execute_reply": "2023-08-28T02:02:07.087380Z"
    },
    "papermill": {
     "duration": 0.021742,
     "end_time": "2023-08-28T02:02:07.090773",
     "exception": false,
     "start_time": "2023-08-28T02:02:07.069031",
     "status": "completed"
    },
    "tags": []
   },
   "outputs": [
    {
     "name": "stdout",
     "output_type": "stream",
     "text": [
      "Number: 12, Frequency: 127\n",
      "Number: 10, Frequency: 127\n",
      "Number: 43, Frequency: 124\n",
      "Number: 25, Frequency: 120\n",
      "Number: 23, Frequency: 119\n",
      "Number: 37, Frequency: 118\n",
      "Number: 1, Frequency: 118\n",
      "Number: 55, Frequency: 116\n",
      "Number: 49, Frequency: 116\n",
      "Number: 33, Frequency: 116\n",
      "Number: 56, Frequency: 115\n",
      "Number: 3, Frequency: 113\n",
      "Number: 2, Frequency: 113\n",
      "Number: 19, Frequency: 112\n",
      "Number: 8, Frequency: 112\n",
      "Number: 15, Frequency: 112\n",
      "Number: 54, Frequency: 112\n",
      "Number: 20, Frequency: 112\n",
      "Number: 40, Frequency: 111\n",
      "Number: 41, Frequency: 111\n",
      "Number: 7, Frequency: 111\n",
      "Number: 13, Frequency: 110\n",
      "Number: 32, Frequency: 110\n",
      "Number: 51, Frequency: 110\n",
      "Number: 50, Frequency: 109\n",
      "Number: 46, Frequency: 109\n",
      "Number: 21, Frequency: 107\n",
      "Number: 45, Frequency: 107\n",
      "Number: 26, Frequency: 107\n",
      "Number: 16, Frequency: 107\n",
      "Number: 31, Frequency: 107\n",
      "Number: 52, Frequency: 106\n",
      "Number: 29, Frequency: 106\n",
      "Number: 18, Frequency: 105\n",
      "Number: 53, Frequency: 105\n",
      "Number: 5, Frequency: 105\n",
      "Number: 42, Frequency: 105\n",
      "Number: 17, Frequency: 105\n",
      "Number: 6, Frequency: 103\n",
      "Number: 22, Frequency: 103\n",
      "Number: 35, Frequency: 102\n",
      "Number: 24, Frequency: 102\n",
      "Number: 11, Frequency: 100\n",
      "Number: 47, Frequency: 100\n",
      "Number: 39, Frequency: 99\n",
      "Number: 4, Frequency: 99\n",
      "Number: 34, Frequency: 99\n",
      "Number: 30, Frequency: 98\n",
      "Number: 27, Frequency: 98\n",
      "Number: 9, Frequency: 94\n",
      "Number: 48, Frequency: 93\n",
      "Number: 38, Frequency: 93\n",
      "Number: 14, Frequency: 92\n",
      "Number: 44, Frequency: 91\n",
      "Number: 36, Frequency: 90\n",
      "Number: 28, Frequency: 89\n",
      "Most common combination: 12\n"
     ]
    }
   ],
   "source": [
    "from collections import Counter\n",
    "\n",
    "# Load the generated combinations from the CSV file\n",
    "generated_combinations = []\n",
    "with open(\"combinations.csv\", \"r\") as csvfile:\n",
    "    csv_reader = csv.reader(csvfile)\n",
    "    next(csv_reader)  # Skip the header row\n",
    "    for row in csv_reader:\n",
    "        generated_combinations.append([int(num) for num in row])\n",
    "\n",
    "# Count the frequency of each number appearing in the generated combinations\n",
    "number_frequency = Counter()\n",
    "for combination in generated_combinations:\n",
    "    number_frequency.update(combination)\n",
    "\n",
    "# Find the most common numbers and sort them by frequency\n",
    "most_common_numbers = number_frequency.most_common()\n",
    "most_common_numbers.sort(key=lambda x: x[1], reverse=True)\n",
    "\n",
    "# Print the most common numbers along with their frequencies\n",
    "for num, freq in most_common_numbers:\n",
    "    print(f\"Number: {num}, Frequency: {freq}\")\n",
    "\n",
    "# Extract the most common combination (list of numbers)\n",
    "most_common_combination = most_common_numbers[0][0]\n",
    "print(\"Most common combination:\", most_common_combination)"
   ]
  }
 ],
 "metadata": {
  "kernelspec": {
   "display_name": "Python 3",
   "language": "python",
   "name": "python3"
  },
  "language_info": {
   "codemirror_mode": {
    "name": "ipython",
    "version": 3
   },
   "file_extension": ".py",
   "mimetype": "text/x-python",
   "name": "python",
   "nbconvert_exporter": "python",
   "pygments_lexer": "ipython3",
   "version": "3.10.12"
  },
  "papermill": {
   "default_parameters": {},
   "duration": 11.399577,
   "end_time": "2023-08-28T02:02:07.916237",
   "environment_variables": {},
   "exception": null,
   "input_path": "__notebook__.ipynb",
   "output_path": "__notebook__.ipynb",
   "parameters": {},
   "start_time": "2023-08-28T02:01:56.516660",
   "version": "2.4.0"
  }
 },
 "nbformat": 4,
 "nbformat_minor": 5
}
